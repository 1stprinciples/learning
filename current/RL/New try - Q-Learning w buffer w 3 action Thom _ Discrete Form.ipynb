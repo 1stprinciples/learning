{
 "cells": [
  {
   "cell_type": "markdown",
   "metadata": {},
   "source": [
    "## Importing some stuff"
   ]
  },
  {
   "cell_type": "markdown",
   "metadata": {},
   "source": [
    "- I am trying to find out the optimum reward function. For this I have created a fast forwarded rewards to check how the reward and tardiness behave. \n",
    "\n",
    "- Once I have created an optimum reward function for fast forward setup, i'll port that reward function to non-fast forwarded setup."
   ]
  },
  {
   "cell_type": "code",
   "execution_count": 1,
   "metadata": {},
   "outputs": [],
   "source": [
    "import simpy\n",
    "import random\n",
    "import gym\n",
    "import numpy as np\n",
    "import pandas as pd\n",
    "from matplotlib import pyplot as plt\n",
    "from tqdm.notebook import tqdm\n",
    "import plotly.express as px"
   ]
  },
  {
   "cell_type": "code",
   "execution_count": 4,
   "metadata": {},
   "outputs": [
    {
     "name": "stderr",
     "output_type": "stream",
     "text": [
      "/Users/suguthansekar/.local/lib/python3.6/site-packages/tensorflow/python/framework/dtypes.py:523: FutureWarning:\n",
      "\n",
      "Passing (type, 1) or '1type' as a synonym of type is deprecated; in a future version of numpy, it will be understood as (type, (1,)) / '(1,)type'.\n",
      "\n",
      "/Users/suguthansekar/.local/lib/python3.6/site-packages/tensorflow/python/framework/dtypes.py:524: FutureWarning:\n",
      "\n",
      "Passing (type, 1) or '1type' as a synonym of type is deprecated; in a future version of numpy, it will be understood as (type, (1,)) / '(1,)type'.\n",
      "\n",
      "/Users/suguthansekar/.local/lib/python3.6/site-packages/tensorflow/python/framework/dtypes.py:525: FutureWarning:\n",
      "\n",
      "Passing (type, 1) or '1type' as a synonym of type is deprecated; in a future version of numpy, it will be understood as (type, (1,)) / '(1,)type'.\n",
      "\n",
      "/Users/suguthansekar/.local/lib/python3.6/site-packages/tensorflow/python/framework/dtypes.py:526: FutureWarning:\n",
      "\n",
      "Passing (type, 1) or '1type' as a synonym of type is deprecated; in a future version of numpy, it will be understood as (type, (1,)) / '(1,)type'.\n",
      "\n",
      "/Users/suguthansekar/.local/lib/python3.6/site-packages/tensorflow/python/framework/dtypes.py:527: FutureWarning:\n",
      "\n",
      "Passing (type, 1) or '1type' as a synonym of type is deprecated; in a future version of numpy, it will be understood as (type, (1,)) / '(1,)type'.\n",
      "\n",
      "/Users/suguthansekar/.local/lib/python3.6/site-packages/tensorflow/python/framework/dtypes.py:532: FutureWarning:\n",
      "\n",
      "Passing (type, 1) or '1type' as a synonym of type is deprecated; in a future version of numpy, it will be understood as (type, (1,)) / '(1,)type'.\n",
      "\n"
     ]
    }
   ],
   "source": [
    "from stable_baselines.common.policies import MlpPolicy\n",
    "from stable_baselines.common import make_vec_env\n",
    "from stable_baselines import PPO2"
   ]
  },
  {
   "cell_type": "code",
   "execution_count": 2,
   "metadata": {},
   "outputs": [],
   "source": [
    "import gym \n",
    "\n",
    "import itertools \n",
    "\n",
    "import matplotlib \n",
    "\n",
    "import matplotlib.style \n",
    "\n",
    "import numpy as np \n",
    "\n",
    "import pandas as pd \n",
    "\n",
    "import sys \n",
    "\n",
    "from collections import defaultdict \n",
    "import plotting \n",
    "import numpy as np\n",
    "  \n",
    "\n",
    "matplotlib.style.use('ggplot') "
   ]
  },
  {
   "cell_type": "markdown",
   "metadata": {},
   "source": [
    "#### Functions"
   ]
  },
  {
   "cell_type": "code",
   "execution_count": 3,
   "metadata": {},
   "outputs": [],
   "source": [
    "#Calculating moving average\n",
    "def moving_average(numbers, window_size):\n",
    "    i = 0\n",
    "    moving_averages = []\n",
    "    while i < len(numbers) - window_size + 1:\n",
    "        this_window = numbers[i : i + window_size]\n",
    "\n",
    "        window_average = sum(this_window) / window_size\n",
    "        moving_averages.append(window_average)\n",
    "        i += 1\n",
    "    return moving_averages"
   ]
  },
  {
   "cell_type": "markdown",
   "metadata": {},
   "source": [
    "### Flow shop environment"
   ]
  },
  {
   "cell_type": "code",
   "execution_count": null,
   "metadata": {},
   "outputs": [],
   "source": [
    "observation_space = gym.spaces.MultiDiscrete((3,3,3,3,21,21,21,21,3))"
   ]
  },
  {
   "cell_type": "code",
   "execution_count": null,
   "metadata": {},
   "outputs": [],
   "source": [
    "observation_space = gym.spaces.Tuple((gym.spaces.Discrete(3),gym.spaces.Discrete(3),\n",
    "                                                  gym.spaces.Discrete(3),gym.spaces.Discrete(3),\n",
    "                                                  gym.spaces.Discrete(21),gym.spaces.Discrete(21),\n",
    "                                                  gym.spaces.Discrete(21),gym.spaces.Discrete(21),\n",
    "                                                  gym.spaces.Discrete(3)))"
   ]
  },
  {
   "cell_type": "code",
   "execution_count": 5,
   "metadata": {},
   "outputs": [],
   "source": [
    "class flowshopGym:\n",
    "    import random\n",
    "    # --------------------------------------INITIALIZE THINGS------------------------------------------\n",
    "    def __init__(self):\n",
    "        self.NUM_PRODUCTS = 200\n",
    "        self.IAT = 0.001 # change this to sample from some distribution\n",
    "        self.action_space = gym.spaces.Discrete(4) # one action for each item in the production queue\n",
    "        self.DEBUG = 1 # 1 = check simpy env ; 2 = check the openai processes\n",
    "        self.tardiness_list = []\n",
    "        self.mean_tard = [0]\n",
    "        self.time_list = []\n",
    "        self.time_bins = []\n",
    "        #self.observation_space = gym.spaces.Discrete(9)\n",
    "        # Rich observation space\n",
    "        # Product type for the 4 product type, time left for the 4 products, product type in machine\n",
    "        # For more details Thesis notes book on Notability\n",
    "        self.observation_space = gym.spaces.Tuple((\n",
    "                                                  gym.spaces.Discrete(3),gym.spaces.Discrete(3), # MC1 Queue prod type\n",
    "                                                  gym.spaces.Discrete(3),gym.spaces.Discrete(3),\n",
    "                                                  gym.spaces.Discrete(11),gym.spaces.Discrete(11), # MC1 Queue time left \n",
    "                                                  gym.spaces.Discrete(11),gym.spaces.Discrete(11),\n",
    "                                                  gym.spaces.Discrete(3), # MC1 prod type\n",
    "                                                  ))\n",
    "        \n",
    "        \n",
    "        \n",
    "        #self.observation_space = spaces.Box(-high, high, dtype=np.float32)\n",
    "        self.prod_and_requests = []\n",
    "        self.machine_production = 0\n",
    "        self.reward = 0 \n",
    "        self.cumulative_reward = 0 \n",
    "        self.machine1_prev_type = 0 # The previous product type in the machine\n",
    "        self.QUEUE_LENGTH = 4\n",
    "        self.DDF = 3\n",
    "        self.metadata = []\n",
    "        \n",
    "        # The following two values from the setup time matrix\n",
    "        self.P1_to_P2 = 10\n",
    "        self.P2_to_P1 = 20\n",
    "        \n",
    "        # The range for the time converter\n",
    "        self.TIME_MAX = 6000\n",
    "        self.TIME_MIN = -6000\n",
    "        \n",
    "        self.state_format = 'Hosp'\n",
    "    # --------------------------------------DEFINE PROCESSES------------------------------------------\n",
    "    \n",
    "    # Process 1 - Spawn of products\n",
    "    def process_1(self):\n",
    "        #print(\"Entered new product process\")\n",
    "        \n",
    "        # Produce X number of products\n",
    "        for i in range(self.NUM_PRODUCTS):\n",
    "            \n",
    "            # Creating instances of the product \n",
    "            ###print(\"creating instance\", i)\n",
    "            self.instances.append(self.product(self,self.envSimpy,'Product_%d' % i, self.store, self.machine))\n",
    "            \n",
    "            # IAT TIMEOUT BEFORE THE NEXT SPAWN\n",
    "            #next_admission = random.expovariate(1 / interarrival_time)\n",
    "            yield self.envSimpy.timeout(self.IAT)\n",
    "        \n",
    "        # After all the products are put into the store, start process 2\n",
    "        # Process 2 - Getting products from the store and create machine request\n",
    "        self.envSimpy.process(self.process_2())\n",
    "    \n",
    "    class product(object):\n",
    "        def __init__(self, flowshopGym, envSimpy, name, number, machine):\n",
    "            \n",
    "            # Creating the required resources and environment\n",
    "            self.envSimpy = envSimpy\n",
    "\n",
    "            # State space variables\n",
    "            self.prod_type = random.randint(1,2) # the product type of the product.\n",
    "            #self.production_time = random.randint(5,15)\n",
    "            self.production_time = 15\n",
    "            \n",
    "            \n",
    "            # Rest of the variables\n",
    "            \n",
    "            # Using the method that Thomas said in rocketchat - TWK method\n",
    "            # Formula is start time + sum of processing times * due date factor \n",
    "            # Due date factor is generally 3\n",
    "            sim.TWK = self.envSimpy.now + self.production_time * sim.DDF # Total Work Content (TWK)\n",
    "            self.production_due = sim.TWK\n",
    "            #self.production_end = random.randint(np.ceil(self.envSimpy.now), np.ceil(TWK))\n",
    "            self.name = name\n",
    "            self.number = number\n",
    "            self.machine = machine \n",
    "            \n",
    "            ###print(self.name,\"created\")\n",
    "            \n",
    "            # putting the product into the store\n",
    "            self.envSimpy.process(self.put_store())\n",
    "            \n",
    " \n",
    "\n",
    "        def put_store(self): # I am putting \n",
    "            yield sim.envSimpy.timeout(1)\n",
    "            ###print(\"Putting the\", self.name, \"in the store at\", self.envSimpy.now)\n",
    "            yield sim.store.put(self)\n",
    "            ###print(\"Items in the store\",len(sim.store.items),\" - time -\",self.envSimpy.now)\n",
    "            \n",
    "        \n",
    "    \n",
    "    \n",
    "    # -----------------------------PROCESS 2-------------------------------------------------  \n",
    "    def process_2(self): # If machine.queue is less than 4, get a prod from store and create request\n",
    "\n",
    "        while True:\n",
    "            if len(self.machine.queue) < self.QUEUE_LENGTH:\n",
    "                # Get product from store\n",
    "                prod = yield self.store.get()\n",
    "                \n",
    "                TWK = self.envSimpy.now + prod.production_time * self.DDF # Total Work Content (TWK)\n",
    "                prod.production_due = TWK\n",
    "                # Request machine\n",
    "                ###print(\"requesting machine for\", prod.name)\n",
    "                req = prod.machine.request()\n",
    "                \n",
    "                self.envSimpy.process(self.process_3(prod, req))\n",
    "            else:\n",
    "                yield self.envSimpy.timeout(1)\n",
    "    \n",
    "    def calc_setup_time(self, prod):\n",
    "        #Setup process if required\n",
    "        #returns the setup time\n",
    "\n",
    "        #print(\"setup time ### \",self.machine1_prev_type , prod.prod_type, \"at\", self.envSimpy.now )\n",
    "        if self.machine1_prev_type == 0:\n",
    "            ###print(\"Previous machine type was 0\")\n",
    "            return 0 # dont' do anything during the first pass\n",
    "        elif self.machine1_prev_type == prod.prod_type:\n",
    "            ###print(\"Same product type between MC and incoming product\")\n",
    "            return 0 # Dont' do anything if the product types are the same \n",
    "        elif prod.prod_type == 2: # current product type = 2 meaning we have to do a changeover from 1 to 2\n",
    "            ###self.reward = self.reward - 5 # -ve reward when there is a setup change\n",
    "            return self.P1_to_P2\n",
    "            ###print(\"Setup time prod1 to prod2 finished at\",self.envSimpy.now )\n",
    "        elif prod.prod_type == 1: # current product type = 1 meaning we have to do a changeover from 2 to 1\n",
    "            ###self.reward = self.reward - 5 # -ve reward when there is a setup change\n",
    "            return self.P2_to_P1\n",
    "            ###print(\"Setup time prod2 to prod1 finished at\",self.envSimpy.now )\n",
    "        else:\n",
    "            raise Exception(\"Sorry product type doesn't match available values [for Setup process]\")\n",
    "        \n",
    "    # -----------------------------PROCESS 3-------------------------------------------------  \n",
    "    def process_3(self,prod, req): # Wait for req to go through and then produce and release the machine  \n",
    "        sim.prod_and_requests.append([prod,req])\n",
    "        # Wait for the request to succeed\n",
    "        yield req\n",
    "        \n",
    "        #if len(self.machine.queue) > 0:\n",
    "            #for i in (self.machine.queue):\n",
    "                #print(\"Time left\",self.time_left(self.relater(i).production_due))\n",
    "             #   pass\n",
    "            #print('\\n')\n",
    "\n",
    "\n",
    "        \n",
    "        prod.production_start = sim.envSimpy.now\n",
    "        # Fast Forwarding reward\n",
    "        setup_time = self.calc_setup_time(prod)\n",
    "        production_start = self.envSimpy.now\n",
    "        projected_production_end = production_start + setup_time + prod.production_time\n",
    "        \n",
    "        prod.tardiness = projected_production_end - prod.production_due # actual end time - deadline \n",
    "        #prod.tardiness = max(0, projected_production_end - prod.production_due) # actual end time - deadline \n",
    "        self.info['Tardiness'] = prod.tardiness\n",
    "        #print(\"Prod start, setup, production_time, tardiness\",production_start, setup_time, prod.production_time, prod.tardiness)\n",
    "        #sim.reward = max(0,prod.tardiness)\n",
    "        # Decide the reward \n",
    "        #sim.reward = - (prod.tardiness) \n",
    "        #if prod.tardiness == 0:\n",
    "        #    sim.reward = sim.reward + 10\n",
    "        #else:\n",
    "        #    sim.reward = sim.reward + 0\n",
    "            \n",
    "        if prod.tardiness <= 70:\n",
    "            sim.reward = sim.reward + 10 \n",
    "        else: \n",
    "            sim.reward = sim.reward + 0\n",
    "        \n",
    "        ###sim.reward -= (setup_time)\n",
    "        ###sim.reward -= ((prod.production_time)/10)         \n",
    "        yield self.envSimpy.timeout(setup_time)\n",
    "        #print(\"Time after setup time\", self.envSimpy.now)\n",
    "        \n",
    "        # ----------------------------\n",
    "        ###print('Start production of ' + str(prod.name) + ' at '+ str(self.envSimpy.now)  )\n",
    "\n",
    "        ###print(\"Production time\", prod.production_time)\n",
    "        self.machine_production = 1\n",
    "        \n",
    "        yield self.envSimpy.timeout(prod.production_time)\n",
    "        prod.production_end = sim.envSimpy.now\n",
    "        ###print('Production fini shed at' + str(self.envSimpy.now))\n",
    "        \n",
    "        \n",
    "        \n",
    "        \n",
    "        # Changing the previous prod_type on the machine\n",
    "        self.machine1_prev_type = prod.prod_type\n",
    "        \n",
    "         \n",
    "        # Tardiness = Actual prod time - due date\n",
    "        #prod.tardiness = prod.production_end - prod.production_due      # +ve is bad; -ve is good\n",
    "        \n",
    "        #self.info['Tardiness'] = prod.tardiness\n",
    "        self.tardiness_list.append(prod.tardiness)\n",
    "        self.mean_tard.append(np.mean(self.tardiness_list))\n",
    "\n",
    "        #sim.reward +=  10 # Reward to finish products #ddf\n",
    "        #sim.reward += ((- prod.tardiness)/10)\n",
    "        ###sim.reward = max(0,prod.tardiness)\n",
    "        # Reward function 1 --> Reward = - tardiness \n",
    "        #if prod.tardiness <= 0:\n",
    "        #    sim.reward = (-1 * prod.tardiness) #sim.reward +  50\n",
    "        #else:\n",
    "        #    sim.reward = sim.reward + 0 \n",
    "        \n",
    "        # Reward function  \n",
    "        #if prod.tardiness <= 0:\n",
    "        #    sim.reward = sim.reward +  50#(-1 * prod.tardiness)\n",
    "        #else:\n",
    "        #    sim.reward = sim.reward  - 50         \n",
    "        \n",
    "        # Reward function 2 --> Reward = -(mean_tardiness[-1])\n",
    "        #sim.reward = sim.reward - (self.mean_tard[-1])            \n",
    "        \n",
    "        #if prod.tardiness <= 0:\n",
    "        #    sim.reward = sim.reward +  50#(-1 * prod.tardiness)\n",
    "        #else:\n",
    "        \n",
    "        # Reward function\n",
    "        #sim.reward = sim.reward + (-prod.tardiness)\n",
    "        \n",
    "        # Reward function\n",
    "        #if prod.tardiness <= 0:\n",
    "        #    sim.reward = sim.reward + (prod.tardiness)**2\n",
    "        #else:\n",
    "        #    sim.reward = sim.reward - (prod.tardiness)\n",
    "        \n",
    "        # Reward function (works)\n",
    "        #if prod.tardiness <= 0: # 50 is the mean tardiness observed without any reward \n",
    "        #    sim.reward = sim.reward + 50\n",
    "        #else:\n",
    "        #    pass\n",
    "        \n",
    "        \n",
    "            #sim.reward = sim.reward - 50\n",
    "        \n",
    "        # Reward function (kinda works)\n",
    "        #if self.mean_tard[-1] < self.mean_tard[-2]: # if the mean tardiness is decreasing, then...\n",
    "        #    sim.reward = sim.reward + 50\n",
    "        #else:\n",
    "        #    pass\n",
    "        \n",
    "        # Reward function (doesn't work)\n",
    "        #if prod.tardiness <= 0: \n",
    "        #    sim.reward = - (prod.tardiness)\n",
    "        #else:\n",
    "        #    pass\n",
    "            #sim.reward = sim.reward - 50\n",
    "        \n",
    "        # Reward function (Doesn't work)\n",
    "        #sim.reward = - prod.tardiness\n",
    "        \n",
    "        #if prod.tardiness <= 0: # 50 is the mean tardiness observed without any reward \n",
    "        #    sim.reward = sim.reward - prod.tardiness\n",
    "        #else:\n",
    "        #    pass\n",
    "        \n",
    "        # End of production \n",
    "        #print('End production of ' + str(prod.name) + ' at ' + str(self.envSimpy.now))\n",
    "\n",
    "        # Before Saturday, 3 April 2021\n",
    "        #sim.reward -= (setup_time)\n",
    "        #sim.reward -= ((prod.production_time)/10)\n",
    "        #sim.reward +=  10 # Reward to finish products #ddf\n",
    "        #sim.reward += ((- prod.tardiness)/10)\n",
    "        \n",
    "        # Wait for an acceptance only when there are products in the machine.queue\n",
    "        if len(sim.machine.queue) != 0: # if there items in the machine queue\n",
    "            self.machine_production = 0\n",
    "            # 1. After production pass the time so that the agent can take action based on the latest state\n",
    "            # 2. Pass time when the action chosen by the agent is rejection\n",
    "            i = 0\n",
    "            while True:\n",
    "                if i == 0:\n",
    "                    yield self.envSimpy.timeout(1)\n",
    "                    #print(\"Timeout after production\")\n",
    "                i += 1\n",
    "\n",
    "                \n",
    "                ###print(\"Initial queue\", sim.machine.queue)\n",
    "                ###print(\"Initial queue LENGTH\", len(sim.machine.queue))\n",
    "                ###print(\"Current_action\", sim.current_action)\n",
    "                #print(\"\\n\")\n",
    "                #print(\"Selected action\", sim.current_action)\n",
    "                #print(\"sim.machine.queue\", sim.machine.queue)\n",
    "                if sim.current_action > (len(sim.machine.queue)-1): # action is invalid:\n",
    "                    #print(\"Invalid action\")\n",
    "                    sim.reward -= -5 \n",
    "                    yield self.envSimpy.timeout(1)\n",
    "                else:\n",
    "                    # Put's the action product in the first position\n",
    "                    sim.machine.queue.insert(0,sim.machine.queue.pop(sim.current_action)) \n",
    "                    #print(\"valid action, updated mc queue\", sim.machine.queue)\n",
    "                    break\n",
    "\n",
    "        else:\n",
    "            pass\n",
    "\n",
    "\n",
    "        \n",
    "\n",
    "        #print(\"Tardiness is \",prod.tardiness)\n",
    "        # Production has ended now I have to take the next action using take_action()\n",
    "        # envGym.machine.queue = envGym.take_action()\n",
    "        #envGym.machine.queue = []\n",
    "\n",
    "        # Release the machine\n",
    "        #yield prod.machine.release(req)\n",
    "        \n",
    "        # Release the machine\n",
    "        yield prod.machine.release(req)\n",
    "\n",
    "        # timeout before the next check\n",
    "        #yield env.timeout(1)\n",
    "    # ----------------------------------------------------------------------------------------------\n",
    "    # --------------------------------------DEFINE FUNCTIONS------------------------------------------\n",
    "    # ----------------------------------------------------------------------------------------------\n",
    "    \n",
    "    def getObs(self): \n",
    "        # CREATING TUPLE/DICT TO HOLD INFO        \n",
    "        test_state = dict()\n",
    "        \n",
    "        # Machine 1 product type - Initial value\n",
    "        test_state['MC1_prod_type'] = 0\n",
    "        # Machine 1 queue product type - Initial values\n",
    "        test_state['MC1_queue1_type'] = 0\n",
    "        test_state['MC1_queue2_type'] = 0\n",
    "        test_state['MC1_queue3_type'] = 0\n",
    "        test_state['MC1_queue4_type'] = 0 \n",
    "        # Machine 1 queue time left - Initial values\n",
    "        test_state['MC1_queue1_timeleft'] = 0\n",
    "        test_state['MC1_queue2_timeleft'] = 0\n",
    "        test_state['MC1_queue3_timeleft'] = 0\n",
    "        test_state['MC1_queue4_timeleft'] = 0\n",
    "        \n",
    "        # 1. PRODUCT TYPE INSIDE THE MACHINE\n",
    "        if len(sim.machine.users) != 0: #if the machine is not empty\n",
    "            test_state['MC1_prod_type'] = (self.relater(sim.machine.users[0])).prod_type # Product type of the product inside machine 1\n",
    "        else:\n",
    "            pass # No product inside the machine\n",
    "        if self.machine_production == 0: # if we enter the loop \n",
    "            test_state['MC1_prod_type'] = 0\n",
    "        \n",
    "        # 2. PRODUCT TYPE IN MACHINE 1 QUEUE\n",
    "        if len(sim.machine.queue) == 0: # queue is empty\n",
    "            pass # Already defined these values while creating the dict()\n",
    "\n",
    "        elif len(sim.machine.queue) == 1:\n",
    "            # Machine 1 queue1 product type\n",
    "            test_state['MC1_queue1_type'] = (self.relater(sim.machine.queue[0])).prod_type\n",
    "            \n",
    "        elif len(sim.machine.queue) == 2:\n",
    "            # Machine 1 queue1 product type\n",
    "            test_state['MC1_queue1_type'] = (self.relater(sim.machine.queue[0])).prod_type\n",
    "            \n",
    "            # Machine 1 queue2 product type\n",
    "            test_state['MC1_queue2_type'] = (self.relater(sim.machine.queue[1])).prod_type\n",
    "        \n",
    "        elif len(sim.machine.queue) == 3:\n",
    "            # Machine 1 queue1 product type\n",
    "            test_state['MC1_queue1_type'] = (self.relater(sim.machine.queue[0])).prod_type\n",
    "            \n",
    "            # Machine 1 queue2 product type\n",
    "            test_state['MC1_queue2_type'] = (self.relater(sim.machine.queue[1])).prod_type\n",
    "            \n",
    "            # Machine 1 queue3 product type\n",
    "            test_state['MC1_queue3_type'] = (self.relater(sim.machine.queue[2])).prod_type\n",
    "        \n",
    "        elif len(sim.machine.queue) == 4:\n",
    "            # Machine 1 queue1 product type\n",
    "            test_state['MC1_queue1_type'] = (self.relater(sim.machine.queue[0])).prod_type\n",
    "            \n",
    "            # Machine 1 queue2 product type\n",
    "            test_state['MC1_queue2_type'] = (self.relater(sim.machine.queue[1])).prod_type\n",
    "            \n",
    "            # Machine 1 queue3 product type\n",
    "            test_state['MC1_queue3_type'] = (self.relater(sim.machine.queue[2])).prod_type\n",
    "            \n",
    "            # Machine 1 queue4 product type\n",
    "            test_state['MC1_queue4_type'] = (self.relater(sim.machine.queue[3])).prod_type\n",
    "        \n",
    "        else:\n",
    "            raise Exception(\"Queue length incompatible\")\n",
    "\n",
    "        \n",
    "        # 3. TIME LEFT CALCULATION\n",
    "        # for each position\n",
    "        if test_state['MC1_queue1_type'] != 0: # product present\n",
    "            time_left = self.time_left((self.relater(sim.machine.queue[0])).production_due)\n",
    "            test_state['MC1_queue1_timeleft'] = self.time_convert(time_left)\n",
    "                \n",
    "        if test_state['MC1_queue2_type'] != 0: # product present\n",
    "            time_left = self.time_left((self.relater(sim.machine.queue[1])).production_due)\n",
    "            test_state['MC1_queue2_timeleft'] = self.time_convert(time_left)\n",
    "        \n",
    "        if test_state['MC1_queue3_type'] != 0: # product present\n",
    "            time_left = self.time_left((self.relater(sim.machine.queue[2])).production_due)\n",
    "            test_state['MC1_queue3_timeleft'] = self.time_convert(time_left)\n",
    "        \n",
    "        if test_state['MC1_queue4_type'] != 0: # product present\n",
    "            time_left = self.time_left((self.relater(sim.machine.queue[3])).production_due)\n",
    "            test_state['MC1_queue4_timeleft'] = self.time_convert(time_left)\n",
    "            \n",
    "        obs = [v for k,v in test_state.items()]    \n",
    "        #print(\"------ obs \", tuple(obs))\n",
    "        \n",
    "        return tuple(obs)\n",
    "    \n",
    "    def time_left(self, due):\n",
    "        #print(\"due, time now\", (due- sim.envSimpy.now))\n",
    "        return (due - sim.envSimpy.now)\n",
    "    \n",
    "    def time_convert(self, time):\n",
    "        #print(\"Time to convert\",time)\n",
    "        time_max = 100 #self.TIME_MAX\n",
    "        time_min = -100 #self.TIME_MIN\n",
    "\n",
    "        if time < -100:\n",
    "            self.time_bins.append(0)\n",
    "            return 0\n",
    "        \n",
    "        if time_min < time <= time_max:\n",
    "            self.time_list.append(time)\n",
    "            min_max_time = (time-time_min)/(time_max-time_min)\n",
    "            scaled_time = min_max_time * 10 # Scaling time to be between 0 and 20\n",
    "            self.time_bins.append(int(np.ceil(scaled_time)))\n",
    "            #print(time,int(np.ceil(scaled_time)) )\n",
    "            return int(np.ceil(scaled_time))\n",
    "        else:\n",
    "            raise Exception(\"Input time value outside range in def time_convert\")\n",
    "            \n",
    "            \n",
    "\n",
    "    \n",
    "     \n",
    "    def encode(self, obs):\n",
    "        #print('Entered encode')\n",
    "        # (3), 3 [Machine queue type, machine product type]\n",
    "        i = obs[0] \n",
    "        i *= 3\n",
    "        \n",
    "        i += obs[1]\n",
    "        #print(\"Value of i inside encode \", i)\n",
    "        return i\n",
    "    \n",
    "    def doneFn(self):\n",
    "        # So the condition is, \n",
    "        #(no items in queue1 + queue2 + ...) AND \n",
    "        #(no machine is running)\n",
    "        if self.machine.queue != None:\n",
    "            lenQueue = len(self.machine.queue)\n",
    "        else: \n",
    "            lenQueue = 0 \n",
    "        lenMachinesUsed = self.machine.count\n",
    "        #print(\"Queue length\",lenQueue, \"no machines used\", lenMachinesUsed)\n",
    "\n",
    "        if (self.envSimpy.now) > self.TIME_MAX: # Early break if time crosses the TWK; Breaking 3 time steps early\n",
    "            self.early_break = True\n",
    "        else:\n",
    "            self.early_break = False\n",
    "\n",
    "        if (lenQueue == 0 and lenMachinesUsed == 0) or (self.early_break == True) :\n",
    "            #print(\"length of queue \",lenQueue,\"Machines used \", lenMachinesUsed)\n",
    "            #print(\"###now, TWK\", self.envSimpy.now, self.TWK)\n",
    "            return True\n",
    "        else:\n",
    "            #print(\"length of queue \",lenQueue,\"Machines used \", lenMachinesUsed)\n",
    "            return False\n",
    "\n",
    "    \n",
    "    # A function to relate products and requests\n",
    "    def relater(self,item):\n",
    "        # Note that the input to this function shouldn't be a list. It should be of \n",
    "        # type request or product\n",
    "        #print(\"Entered relater with this item ###\", item, type(item))\n",
    "        output_item = None\n",
    "        \n",
    "        if str(type(item)) != \"<class '__main__.flowshopGym.product'>\" and str(type(item)) != 'simpy.resources.resource.Request':\n",
    "            raise Exception(\"Passed in a list to relater. Expecting request or product object\")\n",
    "            #print(\"Error passed in a list. Expecting request or product object\")\n",
    "            return None\n",
    "        # If the input is a request\n",
    "        #print(\"self.prod_and_requests\", self.prod_and_requests)\n",
    "        if type(item) == simpy.resources.resource.Request:\n",
    "            for i, j in enumerate(self.prod_and_requests):\n",
    "                if j[1] == item:\n",
    "                    output_item = j[0]\n",
    "                    return output_item\n",
    "        else: #if the input is a product \n",
    "            for i, j in enumerate(self.prod_and_requests):\n",
    "                if j[0] == item:\n",
    "                    output_item = j[1]\n",
    "                    return output_item   \n",
    "    \n",
    "    \n",
    "    # --------------------------------------RENDER------------------------------------------\n",
    "    \n",
    "    \n",
    "    \n",
    "    \n",
    "    # --------------------------------------RESET------------------------------------------\n",
    "    def reset(self):\n",
    "        #print(\"Entered Reset\")\n",
    "        # Initialise simpy environemnt and a machine\n",
    "        self.envSimpy = simpy.Environment()\n",
    "        self.machine = simpy.Resource(self.envSimpy,capacity = 1)\n",
    "        self.store = simpy.Store(self.envSimpy) \n",
    "        \n",
    "        # Initial variable definitions\n",
    "        self.time_start = self.envSimpy.now\n",
    "        self.next_time_stop = self.time_start + 1\n",
    "        self.time_step = 1\n",
    "        self.time_step_terminal = self.time_start + 100\n",
    "        self.current_action = 0\n",
    "        self.instances = []\n",
    "         \n",
    "        # Set up starting processes\n",
    "        self.envSimpy.process(self.process_1())\n",
    "        \n",
    "        # Set starting state values\n",
    "\n",
    "        \n",
    "        # Inital load of patients (to average occupancy)\n",
    "        #self._load_patients()\n",
    "        \n",
    "        # Starting values of observations\n",
    "        observations = self.getObs()\n",
    "        \n",
    "        # Put state dictionary items into observations list (Define observations)\n",
    "        #observations = [v for k,v in self.state.items()]\n",
    "        return observations\n",
    "    \n",
    "    \n",
    "    \n",
    "    \n",
    "    # --------------------------------------STEP------------------------------------------\n",
    "    \n",
    "    def step(self, action):\n",
    "        \n",
    "        # Define params\n",
    "        self.current_action = action\n",
    "        self.action_taken = False \n",
    "        self.info = {}\n",
    "        sim.reward = 0 \n",
    "        \n",
    "        # Reward based on the production status\n",
    "        #if self.machine_production == 1:  \n",
    "        #    self.reward = -1 # a simple negative reward when the machine is waiting for a decision \n",
    "        #    if self.current_action == 0 or self.current_action == 1: # action is accepted or rejected\n",
    "        #        self.reward = self.reward -20\n",
    "        #        print(\"### wrong action\")\n",
    "        \n",
    "        #print(\"machine is used by\",sim.machine.users)\n",
    "        #print(\"machine production status\", self.machine_production)\n",
    "        #print(\"Agent action\", action)\n",
    "        # Run for time_step\n",
    "        self.next_time_stop += self.time_step\n",
    "        self.envSimpy.run(until = self.next_time_stop)\n",
    "        \n",
    "        \n",
    "        \n",
    "        # Get values\n",
    "        observation = self.getObs()\n",
    "        done = self.doneFn()\n",
    "        \n",
    "        \n",
    "        # each step has a -1 reward \n",
    "        #self.reward = self.reward - 1 \n",
    "        \n",
    "\n",
    "        \n",
    "        if done == True and self.early_break != True:\n",
    "            print(self.envSimpy.now)\n",
    "            #self.reward = self.reward + 3000 # Very high reward for completing all jobs\n",
    "        info = self.info\n",
    "        self.cumulative_reward += self.reward\n",
    "        #print(\"Reward\",self.reward)\n",
    "        #print(\"Values from Step\",observation, sim.reward, done, info)\n",
    "        # Return values\n",
    "        return (observation, self.reward, done, info)\n",
    "\n",
    "        \n",
    "    "
   ]
  },
  {
   "cell_type": "markdown",
   "metadata": {},
   "source": [
    "#### Random agent"
   ]
  },
  {
   "cell_type": "code",
   "execution_count": 6,
   "metadata": {
    "scrolled": true
   },
   "outputs": [
    {
     "name": "stdout",
     "output_type": "stream",
     "text": [
      "4573\n",
      "End time is  4573\n",
      "Timesteps taken: 4572\n",
      "Penalties incurred: 4438\n",
      "Epoch reward  1330\n",
      "Mean tardiness of epoch  66.90604999999977 (-ve is good)\n"
     ]
    }
   ],
   "source": [
    "sim = flowshopGym()\n",
    "state = sim.reset()\n",
    "epochs = 0\n",
    "penalties, reward, epoch_reward = 0, 0, 0 \n",
    "epsilon = 0.1\n",
    "done = False\n",
    "tardiness = []\n",
    "CMAX = [] # cmax is the maximum make span. This is the most widely used measure in flowshops\n",
    "\n",
    "while not done:\n",
    "    \n",
    "    # Random action\n",
    "    action = sim.action_space.sample()\n",
    "    \n",
    "    # FIFO\n",
    "    #action = 0\n",
    "    \n",
    "    \n",
    "    #action = np.argmax(Q1[state])\n",
    "    #if random.uniform(0, 1) < epsilon:\n",
    "    #    action = sim.action_space.sample() # Explore action space\n",
    "    #else:\n",
    "    #    action = np.argmax(Q1[state]) # Exploit learned values\n",
    "    ###print(\"###Taking an action at\", sim.envSimpy.now)\n",
    "    state, reward, done, info = sim.step(action)\n",
    "    if reward == 0:\n",
    "        penalties += 1\n",
    "    try:\n",
    "        tardiness.append(info['Tardiness'])\n",
    "    except:\n",
    "        pass\n",
    "    \n",
    "    epoch_reward += reward\n",
    "    \n",
    "\n",
    "    epochs += 1\n",
    "\n",
    "\n",
    "mean_tardiness = sum(tardiness)/(len(tardiness))\n",
    "print(\"End time is \", sim.envSimpy.now)\n",
    "print(\"Timesteps taken: {}\".format(epochs))\n",
    "print(\"Penalties incurred: {}\".format(penalties))\n",
    "print(\"Epoch reward \", epoch_reward)\n",
    "print(\"Mean tardiness of epoch \", mean_tardiness, \"(-ve is good)\")\n",
    "#print(\"Median\")"
   ]
  },
  {
   "cell_type": "markdown",
   "metadata": {},
   "source": [
    "#### Random - 51 epochs"
   ]
  },
  {
   "cell_type": "code",
   "execution_count": null,
   "metadata": {},
   "outputs": [],
   "source": [
    "from stable_baselines.common.vec_env import DummyVecEnv"
   ]
  },
  {
   "cell_type": "code",
   "execution_count": null,
   "metadata": {},
   "outputs": [],
   "source": [
    "%%time\n",
    "sim = flowshopGym()\n",
    "#sim = DummyVecEnv([lambda: sim]) # vectorization of the environment\n",
    "#sim.reset()\n",
    "\n",
    "\"\"\"Training the agent\"\"\"\n",
    "\n",
    "import random\n",
    "from IPython.display import clear_output\n",
    "\n",
    "\n",
    "# For plotting metrics\n",
    "all_epochs_random = []\n",
    "all_penalties_random = []\n",
    "all_rewards_random = []\n",
    "all_tardiness_random = []\n",
    "CMAX = []\n",
    "\n",
    "for i in range(1, 101):\n",
    "    print(i)\n",
    "    state = sim.reset()\n",
    "\n",
    "    epochs, penalties, reward, episodic_reward, tardiness = 0, 0, 0, 0, []\n",
    "    done = False\n",
    "    \n",
    "    while not done:\n",
    "        action = 0\n",
    "        #action = random.randint(0,2)\n",
    "        next_state, reward, done, info = sim.step(action) \n",
    "        ###print(\"state, action\", state, action)\n",
    "        \n",
    "        episodic_reward += reward\n",
    "        \n",
    "        if reward <= 0:\n",
    "            penalties += 1\n",
    "        \n",
    "        state = next_state\n",
    "        epochs += 1\n",
    "        \n",
    "        try:\n",
    "            ###print(info['Tardiness'])\n",
    "            tardiness.append(info['Tardiness'])\n",
    "        except:\n",
    "            pass\n",
    "\n",
    "    all_epochs_random.append(i)\n",
    "    all_penalties_random.append(penalties)\n",
    "    all_rewards_random.append(episodic_reward)\n",
    "    all_tardiness_random.append(np.mean(tardiness))\n",
    "    #CMAX.append(max(tardiness))\n",
    "    CMAX.append(sim.envSimpy.now)\n",
    "        \n",
    "    if i % 100 == 0:\n",
    "        clear_output(wait=True)\n",
    "        print(f\"Episode: {i}\")\n",
    "\n",
    "print(\"Training finished.\\n\")"
   ]
  },
  {
   "cell_type": "code",
   "execution_count": null,
   "metadata": {},
   "outputs": [],
   "source": [
    "plt.scatter(all_epochs_random, CMAX)\n",
    "plt.show()"
   ]
  },
  {
   "cell_type": "code",
   "execution_count": null,
   "metadata": {
    "scrolled": true
   },
   "outputs": [],
   "source": [
    "np.mean(all_tardiness_random[-20:]), np.mean(all_rewards_random[-20:])"
   ]
  },
  {
   "cell_type": "code",
   "execution_count": null,
   "metadata": {},
   "outputs": [],
   "source": [
    "plt.plot(all_epochs_random[-20:],all_rewards_random[-20:])"
   ]
  },
  {
   "cell_type": "code",
   "execution_count": null,
   "metadata": {},
   "outputs": [],
   "source": [
    "plt.plot(all_epochs_random,all_tardiness_random)"
   ]
  },
  {
   "cell_type": "markdown",
   "metadata": {},
   "source": [
    "### Overall flow - Q-learning "
   ]
  },
  {
   "cell_type": "markdown",
   "metadata": {},
   "source": [
    "#### Q-learning\n"
   ]
  },
  {
   "cell_type": "code",
   "execution_count": 19,
   "metadata": {
    "scrolled": true
   },
   "outputs": [
    {
     "name": "stdout",
     "output_type": "stream",
     "text": [
      "Episode: 200\n",
      "Training finished.\n",
      "\n",
      "CPU times: user 3min 42s, sys: 4.17 s, total: 3min 46s\n",
      "Wall time: 3min 52s\n"
     ]
    }
   ],
   "source": [
    "%%time\n",
    "Q1 = defaultdict(lambda: np.zeros(sim.action_space.n)) \n",
    "sim = flowshopGym()\n",
    "#sim.reset()\n",
    "\n",
    "\"\"\"Training the agent\"\"\"\n",
    "\n",
    "import random\n",
    "from IPython.display import clear_output\n",
    "\n",
    "# Hyperparameters\n",
    "alpha = 0.1\n",
    "gamma = 0.6\n",
    "epsilon_init = 0.3\n",
    "beta = 0.0009\n",
    "\n",
    "# For plotting metrics\n",
    "all_epochs = []\n",
    "all_penalties = []\n",
    "all_rewards = []\n",
    "all_tardiness = []\n",
    "all_steps = []\n",
    "CMAX = []\n",
    "\n",
    "for i in range(1, 201):\n",
    "    print(i)\n",
    "    \n",
    "    epsilon = epsilon_init - beta * i\n",
    "    if epsilon < 0:\n",
    "        raise Exception(\"Epsilon value less than zero. Tweak beta value according to no. epochs\")\n",
    "    sim = flowshopGym()\n",
    "    state = sim.reset()\n",
    "    steps = []\n",
    "    epochs, penalties, reward, episodic_reward, tardiness = 0, 0, 0, 0, []\n",
    "    done = False\n",
    "    episodic_reward_list = []\n",
    "    step = 0\n",
    "    while not done:\n",
    "        step += 1\n",
    "        \n",
    "        if random.uniform(0, 1) < epsilon:\n",
    "            action = sim.action_space.sample() # Explore action space\n",
    "        else:\n",
    "            action = np.argmax(Q1[state]) # Exploit learned values\n",
    "        \n",
    "        next_state, reward, done, info = sim.step(action) \n",
    "        #print(\"state, action, reward\", state, action, reward)\n",
    "        old_value = Q1[state][action]\n",
    "        next_max = np.max(Q1[next_state])\n",
    "        \n",
    "        new_value =  old_value + alpha * (reward + (gamma * next_max) - old_value)\n",
    "        Q1[state][action] = new_value\n",
    "        \n",
    "        episodic_reward += reward\n",
    "        episodic_reward_list.append(reward)\n",
    "        \n",
    "        if reward <= 0:\n",
    "            penalties += 1\n",
    "        \n",
    "        state = next_state\n",
    "        epochs += 1\n",
    "        steps.append(step)\n",
    "        try:\n",
    "            #print(info['Tardiness'])\n",
    "            tardiness.append(info['Tardiness'])\n",
    "        except:\n",
    "            pass\n",
    "    \n",
    "    #print(\"Reward for this episode\", episodic_reward)\n",
    "    all_steps.append(steps)\n",
    "    all_epochs.append(i)\n",
    "    all_penalties.append(penalties)\n",
    "    all_rewards.append(episodic_reward)\n",
    "    all_tardiness.append(np.mean(tardiness))\n",
    "    #CMAX.append(max(tardiness))\n",
    "    CMAX.append(sim.envSimpy.now)\n",
    "        \n",
    "    if i % 100 == 0:\n",
    "        clear_output(wait=True)\n",
    "        print(f\"Episode: {i}\")\n",
    "\n",
    "print(\"Training finished.\\n\")"
   ]
  },
  {
   "cell_type": "code",
   "execution_count": 20,
   "metadata": {},
   "outputs": [
    {
     "data": {
      "image/png": "[encoded data removed]",
      "text/plain": [
       "<Figure size 432x288 with 1 Axes>"
      ]
     },
     "metadata": {},
     "output_type": "display_data"
    }
   ],
   "source": [
    "plt.scatter(all_epochs, CMAX)\n",
    "plt.plot(all_epochs[19:],moving_average(CMAX,20), color = 'green')\n",
    "plt.show()"
   ]
  },
  {
   "cell_type": "code",
   "execution_count": 21,
   "metadata": {},
   "outputs": [
    {
     "data": {
      "text/plain": [
       "200"
      ]
     },
     "execution_count": 21,
     "metadata": {},
     "output_type": "execute_result"
    }
   ],
   "source": [
    "len(sim.tardiness_list)"
   ]
  },
  {
   "cell_type": "code",
   "execution_count": 22,
   "metadata": {},
   "outputs": [
    {
     "data": {
      "image/png": "[encoded data removed]",
      "text/plain": [
       "<Figure size 432x288 with 1 Axes>"
      ]
     },
     "metadata": {},
     "output_type": "display_data"
    }
   ],
   "source": [
    "plt.scatter(all_epochs,all_rewards, label = \"Q learning agent\")\n",
    "plt.plot(all_epochs[19:],moving_average(all_rewards,20), color = 'green')\n",
    "\n",
    "plt.legend()\n",
    "plt.xlabel(\"Epochs\")\n",
    "plt.ylabel(\"Rewards\")\n",
    "plt.title(\"DDF 4, BASE REWARD 50\")\n",
    "plt.show()"
   ]
  },
  {
   "cell_type": "code",
   "execution_count": 23,
   "metadata": {},
   "outputs": [
    {
     "data": {
      "image/png": "[encoded data removed]",
      "text/plain": [
       "<Figure size 432x288 with 1 Axes>"
      ]
     },
     "metadata": {},
     "output_type": "display_data"
    }
   ],
   "source": [
    "plt.scatter(all_epochs,all_tardiness)\n",
    "plt.plot(all_epochs[19:],moving_average(all_tardiness, 20), color = 'blue')\n",
    "\n",
    "plt.xlabel(\"Epochs\")\n",
    "plt.ylabel(\"Tardiness\")\n",
    "plt.title(\"DDF 4, BASE REWARD 50\")\n",
    "plt.show()\n"
   ]
  },
  {
   "cell_type": "code",
   "execution_count": 24,
   "metadata": {
    "scrolled": true
   },
   "outputs": [
    {
     "data": {
      "image/png": "[encoded data removed]",
      "text/plain": [
       "<Figure size 432x288 with 1 Axes>"
      ]
     },
     "metadata": {},
     "output_type": "display_data"
    }
   ],
   "source": [
    "plt.hist(sim.time_bins)\n",
    "plt.show()"
   ]
  },
  {
   "cell_type": "code",
   "execution_count": 25,
   "metadata": {},
   "outputs": [
    {
     "data": {
      "image/png": "[encoded data removed]",
      "text/plain": [
       "<Figure size 432x288 with 1 Axes>"
      ]
     },
     "metadata": {},
     "output_type": "display_data"
    }
   ],
   "source": [
    "plt.hist(sim.time_list)\n",
    "plt.show()"
   ]
  },
  {
   "cell_type": "markdown",
   "metadata": {},
   "source": [
    "Tardiness for each product in the last epoch"
   ]
  },
  {
   "cell_type": "code",
   "execution_count": 26,
   "metadata": {},
   "outputs": [
    {
     "data": {
      "image/png": "[encoded data removed]",
      "text/plain": [
       "<Figure size 432x288 with 1 Axes>"
      ]
     },
     "metadata": {},
     "output_type": "display_data"
    }
   ],
   "source": [
    "plt.plot(sim.tardiness_list)\n",
    "plt.show()\n"
   ]
  },
  {
   "cell_type": "code",
   "execution_count": 27,
   "metadata": {},
   "outputs": [
    {
     "data": {
      "image/png": "[encoded data removed]",
      "text/plain": [
       "<Figure size 432x288 with 1 Axes>"
      ]
     },
     "metadata": {},
     "output_type": "display_data"
    }
   ],
   "source": [
    "#For the last epoch\n",
    "plt.plot(steps[-500:],episodic_reward_list[-500:])\n",
    "\n",
    "plt.xlabel(\"Step\")\n",
    "plt.ylabel(\"Reward\")\n",
    "plt.title(\"Steps vs Reward\")\n",
    "plt.show()"
   ]
  },
  {
   "cell_type": "code",
   "execution_count": 28,
   "metadata": {
    "scrolled": true
   },
   "outputs": [
    {
     "data": {
      "text/plain": [
       "(69.74930000000008, 1860.0)"
      ]
     },
     "execution_count": 28,
     "metadata": {},
     "output_type": "execute_result"
    }
   ],
   "source": [
    "np.mean(all_tardiness[-20:]),np.mean(all_rewards[-20:])\n"
   ]
  },
  {
   "cell_type": "code",
   "execution_count": 29,
   "metadata": {},
   "outputs": [
    {
     "data": {
      "image/png": "[encoded data removed]",
      "text/plain": [
       "<Figure size 432x288 with 1 Axes>"
      ]
     },
     "metadata": {},
     "output_type": "display_data"
    }
   ],
   "source": [
    "plt.plot(sim.mean_tard)\n",
    "plt.show()"
   ]
  },
  {
   "cell_type": "code",
   "execution_count": null,
   "metadata": {},
   "outputs": [],
   "source": []
  },
  {
   "cell_type": "markdown",
   "metadata": {
    "heading_collapsed": true
   },
   "source": [
    "### System states"
   ]
  },
  {
   "cell_type": "code",
   "execution_count": null,
   "metadata": {
    "hidden": true
   },
   "outputs": [],
   "source": [
    "len(sim.tardiness_list)"
   ]
  },
  {
   "cell_type": "code",
   "execution_count": null,
   "metadata": {
    "hidden": true
   },
   "outputs": [],
   "source": [
    "for i in range(len(sim.prod_and_requests)):\n",
    "    print(sim.prod_and_requests[i][0].production_start, sim.prod_and_requests[i][0].production_end, sim.prod_and_requests[i][0].production_due)"
   ]
  },
  {
   "cell_type": "code",
   "execution_count": null,
   "metadata": {
    "hidden": true
   },
   "outputs": [],
   "source": [
    "# Run this notebook and then run the Binary notebook"
   ]
  },
  {
   "cell_type": "markdown",
   "metadata": {},
   "source": [
    "### Comparing the Random agent and the Q learning agent"
   ]
  },
  {
   "cell_type": "markdown",
   "metadata": {},
   "source": [
    "#### Mean Tardiness and Mean Rewards "
   ]
  },
  {
   "cell_type": "markdown",
   "metadata": {},
   "source": [
    "Random agent"
   ]
  },
  {
   "cell_type": "code",
   "execution_count": null,
   "metadata": {},
   "outputs": [],
   "source": [
    "np.mean(all_tardiness_random[-20:]),np.mean(all_rewards_random[-20:])"
   ]
  },
  {
   "cell_type": "markdown",
   "metadata": {},
   "source": [
    "Q learning agent"
   ]
  },
  {
   "cell_type": "code",
   "execution_count": null,
   "metadata": {},
   "outputs": [],
   "source": [
    "np.mean(all_tardiness[-20:]),np.mean(all_rewards[-20:])"
   ]
  },
  {
   "cell_type": "markdown",
   "metadata": {},
   "source": [
    "#### Tardiness"
   ]
  },
  {
   "cell_type": "code",
   "execution_count": null,
   "metadata": {
    "scrolled": true
   },
   "outputs": [],
   "source": [
    "plt.scatter(all_epochs,all_tardiness, label = \"Q learning agent\")\n",
    "plt.plot(all_epochs[9:],moving_average(all_tardiness,10), color = 'green')\n",
    "\n",
    "plt.scatter(all_epochs_random,all_tardiness_random, label = \"Random agent\")\n",
    "plt.plot(all_epochs_random[9:],moving_average(all_tardiness_random,10), color = 'blue')\n",
    "\n",
    "plt.legend()\n",
    "plt.xlabel(\"Epochs\")\n",
    "plt.ylabel(\"Tardiness\")\n",
    "plt.title(\"Epochs vs Tardiness\")\n",
    "plt.show()"
   ]
  },
  {
   "cell_type": "markdown",
   "metadata": {},
   "source": [
    "#### Rewards"
   ]
  },
  {
   "cell_type": "code",
   "execution_count": null,
   "metadata": {
    "scrolled": true
   },
   "outputs": [],
   "source": [
    "plt.scatter(all_epochs,all_rewards, label = \"Q learning agent\")\n",
    "plt.plot(all_epochs[9:],moving_average(all_rewards,10), color = 'green')\n",
    "\n",
    "plt.scatter(all_epochs_random,all_rewards_random, label = \"Random agent\")\n",
    "plt.plot(all_epochs_random[9:],moving_average(all_rewards_random,10), color = 'blue')\n",
    "\n",
    "plt.legend()\n",
    "plt.xlabel(\"Epochs\")\n",
    "plt.ylabel(\"Rewards\")\n",
    "plt.title(\"Epochs vs Rewards - All epochs\")\n",
    "plt.show()"
   ]
  },
  {
   "cell_type": "code",
   "execution_count": null,
   "metadata": {},
   "outputs": [],
   "source": [
    "len(Q1)"
   ]
  },
  {
   "cell_type": "code",
   "execution_count": null,
   "metadata": {},
   "outputs": [],
   "source": [
    "Q1"
   ]
  },
  {
   "cell_type": "markdown",
   "metadata": {},
   "source": [
    "### PPO"
   ]
  },
  {
   "cell_type": "code",
   "execution_count": 7,
   "metadata": {},
   "outputs": [],
   "source": [
    "sim = flowshopGym()\n",
    "state = sim.reset()"
   ]
  },
  {
   "cell_type": "code",
   "execution_count": 8,
   "metadata": {},
   "outputs": [
    {
     "name": "stdout",
     "output_type": "stream",
     "text": [
      "Wrapping the env in a DummyVecEnv.\n"
     ]
    },
    {
     "ename": "NotImplementedError",
     "evalue": "Error: the model does not support input space of type Tuple",
     "output_type": "error",
     "traceback": [
      "\u001b[0;31m---------------------------------------------------------------\u001b[0m",
      "\u001b[0;31mNotImplementedError\u001b[0m           Traceback (most recent call last)",
      "\u001b[0;32m<ipython-input-8-a062bb364226>\u001b[0m in \u001b[0;36m<module>\u001b[0;34m\u001b[0m\n\u001b[0;32m----> 1\u001b[0;31m \u001b[0mmodel\u001b[0m \u001b[0;34m=\u001b[0m \u001b[0mPPO2\u001b[0m\u001b[0;34m(\u001b[0m\u001b[0mMlpPolicy\u001b[0m\u001b[0;34m,\u001b[0m \u001b[0msim\u001b[0m\u001b[0;34m,\u001b[0m \u001b[0mverbose\u001b[0m\u001b[0;34m=\u001b[0m\u001b[0;36m1\u001b[0m\u001b[0;34m)\u001b[0m\u001b[0;34m\u001b[0m\u001b[0;34m\u001b[0m\u001b[0m\n\u001b[0m\u001b[1;32m      2\u001b[0m \u001b[0mmodel\u001b[0m\u001b[0;34m.\u001b[0m\u001b[0mlearn\u001b[0m\u001b[0;34m(\u001b[0m\u001b[0mtotal_timesteps\u001b[0m\u001b[0;34m=\u001b[0m\u001b[0;36m25000\u001b[0m\u001b[0;34m)\u001b[0m\u001b[0;34m\u001b[0m\u001b[0;34m\u001b[0m\u001b[0m\n",
      "\u001b[0;32m~/anaconda3/envs/RL_learning/lib/python3.6/site-packages/stable_baselines/ppo2/ppo2.py\u001b[0m in \u001b[0;36m__init__\u001b[0;34m(self, policy, env, gamma, n_steps, ent_coef, learning_rate, vf_coef, max_grad_norm, lam, nminibatches, noptepochs, cliprange, cliprange_vf, verbose, tensorboard_log, _init_setup_model, policy_kwargs, full_tensorboard_log, seed, n_cpu_tf_sess)\u001b[0m\n\u001b[1;32m     95\u001b[0m \u001b[0;34m\u001b[0m\u001b[0m\n\u001b[1;32m     96\u001b[0m         \u001b[0;32mif\u001b[0m \u001b[0m_init_setup_model\u001b[0m\u001b[0;34m:\u001b[0m\u001b[0;34m\u001b[0m\u001b[0;34m\u001b[0m\u001b[0m\n\u001b[0;32m---> 97\u001b[0;31m             \u001b[0mself\u001b[0m\u001b[0;34m.\u001b[0m\u001b[0msetup_model\u001b[0m\u001b[0;34m(\u001b[0m\u001b[0;34m)\u001b[0m\u001b[0;34m\u001b[0m\u001b[0;34m\u001b[0m\u001b[0m\n\u001b[0m\u001b[1;32m     98\u001b[0m \u001b[0;34m\u001b[0m\u001b[0m\n\u001b[1;32m     99\u001b[0m     \u001b[0;32mdef\u001b[0m \u001b[0m_make_runner\u001b[0m\u001b[0;34m(\u001b[0m\u001b[0mself\u001b[0m\u001b[0;34m)\u001b[0m\u001b[0;34m:\u001b[0m\u001b[0;34m\u001b[0m\u001b[0;34m\u001b[0m\u001b[0m\n",
      "\u001b[0;32m~/anaconda3/envs/RL_learning/lib/python3.6/site-packages/stable_baselines/ppo2/ppo2.py\u001b[0m in \u001b[0;36msetup_model\u001b[0;34m(self)\u001b[0m\n\u001b[1;32m    129\u001b[0m \u001b[0;34m\u001b[0m\u001b[0m\n\u001b[1;32m    130\u001b[0m                 act_model = self.policy(self.sess, self.observation_space, self.action_space, self.n_envs, 1,\n\u001b[0;32m--> 131\u001b[0;31m                                         n_batch_step, reuse=False, **self.policy_kwargs)\n\u001b[0m\u001b[1;32m    132\u001b[0m                 with tf.variable_scope(\"train_model\", reuse=True,\n\u001b[1;32m    133\u001b[0m                                        custom_getter=tf_util.outer_scope_getter(\"train_model\")):\n",
      "\u001b[0;32m~/anaconda3/envs/RL_learning/lib/python3.6/site-packages/stable_baselines/common/policies.py\u001b[0m in \u001b[0;36m__init__\u001b[0;34m(self, sess, ob_space, ac_space, n_env, n_steps, n_batch, reuse, **_kwargs)\u001b[0m\n\u001b[1;32m    659\u001b[0m     \u001b[0;32mdef\u001b[0m \u001b[0m__init__\u001b[0m\u001b[0;34m(\u001b[0m\u001b[0mself\u001b[0m\u001b[0;34m,\u001b[0m \u001b[0msess\u001b[0m\u001b[0;34m,\u001b[0m \u001b[0mob_space\u001b[0m\u001b[0;34m,\u001b[0m \u001b[0mac_space\u001b[0m\u001b[0;34m,\u001b[0m \u001b[0mn_env\u001b[0m\u001b[0;34m,\u001b[0m \u001b[0mn_steps\u001b[0m\u001b[0;34m,\u001b[0m \u001b[0mn_batch\u001b[0m\u001b[0;34m,\u001b[0m \u001b[0mreuse\u001b[0m\u001b[0;34m=\u001b[0m\u001b[0;32mFalse\u001b[0m\u001b[0;34m,\u001b[0m \u001b[0;34m**\u001b[0m\u001b[0m_kwargs\u001b[0m\u001b[0;34m)\u001b[0m\u001b[0;34m:\u001b[0m\u001b[0;34m\u001b[0m\u001b[0;34m\u001b[0m\u001b[0m\n\u001b[1;32m    660\u001b[0m         super(MlpPolicy, self).__init__(sess, ob_space, ac_space, n_env, n_steps, n_batch, reuse,\n\u001b[0;32m--> 661\u001b[0;31m                                         feature_extraction=\"mlp\", **_kwargs)\n\u001b[0m\u001b[1;32m    662\u001b[0m \u001b[0;34m\u001b[0m\u001b[0m\n\u001b[1;32m    663\u001b[0m \u001b[0;34m\u001b[0m\u001b[0m\n",
      "\u001b[0;32m~/anaconda3/envs/RL_learning/lib/python3.6/site-packages/stable_baselines/common/policies.py\u001b[0m in \u001b[0;36m__init__\u001b[0;34m(self, sess, ob_space, ac_space, n_env, n_steps, n_batch, reuse, layers, net_arch, act_fun, cnn_extractor, feature_extraction, **kwargs)\u001b[0m\n\u001b[1;32m    539\u001b[0m                  act_fun=tf.tanh, cnn_extractor=nature_cnn, feature_extraction=\"cnn\", **kwargs):\n\u001b[1;32m    540\u001b[0m         super(FeedForwardPolicy, self).__init__(sess, ob_space, ac_space, n_env, n_steps, n_batch, reuse=reuse,\n\u001b[0;32m--> 541\u001b[0;31m                                                 scale=(feature_extraction == \"cnn\"))\n\u001b[0m\u001b[1;32m    542\u001b[0m \u001b[0;34m\u001b[0m\u001b[0m\n\u001b[1;32m    543\u001b[0m         \u001b[0mself\u001b[0m\u001b[0;34m.\u001b[0m\u001b[0m_kwargs_check\u001b[0m\u001b[0;34m(\u001b[0m\u001b[0mfeature_extraction\u001b[0m\u001b[0;34m,\u001b[0m \u001b[0mkwargs\u001b[0m\u001b[0;34m)\u001b[0m\u001b[0;34m\u001b[0m\u001b[0;34m\u001b[0m\u001b[0m\n",
      "\u001b[0;32m~/anaconda3/envs/RL_learning/lib/python3.6/site-packages/stable_baselines/common/policies.py\u001b[0m in \u001b[0;36m__init__\u001b[0;34m(self, sess, ob_space, ac_space, n_env, n_steps, n_batch, reuse, scale)\u001b[0m\n\u001b[1;32m    220\u001b[0m     \u001b[0;32mdef\u001b[0m \u001b[0m__init__\u001b[0m\u001b[0;34m(\u001b[0m\u001b[0mself\u001b[0m\u001b[0;34m,\u001b[0m \u001b[0msess\u001b[0m\u001b[0;34m,\u001b[0m \u001b[0mob_space\u001b[0m\u001b[0;34m,\u001b[0m \u001b[0mac_space\u001b[0m\u001b[0;34m,\u001b[0m \u001b[0mn_env\u001b[0m\u001b[0;34m,\u001b[0m \u001b[0mn_steps\u001b[0m\u001b[0;34m,\u001b[0m \u001b[0mn_batch\u001b[0m\u001b[0;34m,\u001b[0m \u001b[0mreuse\u001b[0m\u001b[0;34m=\u001b[0m\u001b[0;32mFalse\u001b[0m\u001b[0;34m,\u001b[0m \u001b[0mscale\u001b[0m\u001b[0;34m=\u001b[0m\u001b[0;32mFalse\u001b[0m\u001b[0;34m)\u001b[0m\u001b[0;34m:\u001b[0m\u001b[0;34m\u001b[0m\u001b[0;34m\u001b[0m\u001b[0m\n\u001b[1;32m    221\u001b[0m         super(ActorCriticPolicy, self).__init__(sess, ob_space, ac_space, n_env, n_steps, n_batch, reuse=reuse,\n\u001b[0;32m--> 222\u001b[0;31m                                                 scale=scale)\n\u001b[0m\u001b[1;32m    223\u001b[0m         \u001b[0mself\u001b[0m\u001b[0;34m.\u001b[0m\u001b[0m_pdtype\u001b[0m \u001b[0;34m=\u001b[0m \u001b[0mmake_proba_dist_type\u001b[0m\u001b[0;34m(\u001b[0m\u001b[0mac_space\u001b[0m\u001b[0;34m)\u001b[0m\u001b[0;34m\u001b[0m\u001b[0;34m\u001b[0m\u001b[0m\n\u001b[1;32m    224\u001b[0m         \u001b[0mself\u001b[0m\u001b[0;34m.\u001b[0m\u001b[0m_policy\u001b[0m \u001b[0;34m=\u001b[0m \u001b[0;32mNone\u001b[0m\u001b[0;34m\u001b[0m\u001b[0;34m\u001b[0m\u001b[0m\n",
      "\u001b[0;32m~/anaconda3/envs/RL_learning/lib/python3.6/site-packages/stable_baselines/common/policies.py\u001b[0m in \u001b[0;36m__init__\u001b[0;34m(self, sess, ob_space, ac_space, n_env, n_steps, n_batch, reuse, scale, obs_phs, add_action_ph)\u001b[0m\n\u001b[1;32m    116\u001b[0m         \u001b[0;32mwith\u001b[0m \u001b[0mtf\u001b[0m\u001b[0;34m.\u001b[0m\u001b[0mvariable_scope\u001b[0m\u001b[0;34m(\u001b[0m\u001b[0;34m\"input\"\u001b[0m\u001b[0;34m,\u001b[0m \u001b[0mreuse\u001b[0m\u001b[0;34m=\u001b[0m\u001b[0;32mFalse\u001b[0m\u001b[0;34m)\u001b[0m\u001b[0;34m:\u001b[0m\u001b[0;34m\u001b[0m\u001b[0;34m\u001b[0m\u001b[0m\n\u001b[1;32m    117\u001b[0m             \u001b[0;32mif\u001b[0m \u001b[0mobs_phs\u001b[0m \u001b[0;32mis\u001b[0m \u001b[0;32mNone\u001b[0m\u001b[0;34m:\u001b[0m\u001b[0;34m\u001b[0m\u001b[0;34m\u001b[0m\u001b[0m\n\u001b[0;32m--> 118\u001b[0;31m                 \u001b[0mself\u001b[0m\u001b[0;34m.\u001b[0m\u001b[0m_obs_ph\u001b[0m\u001b[0;34m,\u001b[0m \u001b[0mself\u001b[0m\u001b[0;34m.\u001b[0m\u001b[0m_processed_obs\u001b[0m \u001b[0;34m=\u001b[0m \u001b[0mobservation_input\u001b[0m\u001b[0;34m(\u001b[0m\u001b[0mob_space\u001b[0m\u001b[0;34m,\u001b[0m \u001b[0mn_batch\u001b[0m\u001b[0;34m,\u001b[0m \u001b[0mscale\u001b[0m\u001b[0;34m=\u001b[0m\u001b[0mscale\u001b[0m\u001b[0;34m)\u001b[0m\u001b[0;34m\u001b[0m\u001b[0;34m\u001b[0m\u001b[0m\n\u001b[0m\u001b[1;32m    119\u001b[0m             \u001b[0;32melse\u001b[0m\u001b[0;34m:\u001b[0m\u001b[0;34m\u001b[0m\u001b[0;34m\u001b[0m\u001b[0m\n\u001b[1;32m    120\u001b[0m                 \u001b[0mself\u001b[0m\u001b[0;34m.\u001b[0m\u001b[0m_obs_ph\u001b[0m\u001b[0;34m,\u001b[0m \u001b[0mself\u001b[0m\u001b[0;34m.\u001b[0m\u001b[0m_processed_obs\u001b[0m \u001b[0;34m=\u001b[0m \u001b[0mobs_phs\u001b[0m\u001b[0;34m\u001b[0m\u001b[0;34m\u001b[0m\u001b[0m\n",
      "\u001b[0;32m~/anaconda3/envs/RL_learning/lib/python3.6/site-packages/stable_baselines/common/input.py\u001b[0m in \u001b[0;36mobservation_input\u001b[0;34m(ob_space, batch_size, name, scale)\u001b[0m\n\u001b[1;32m     49\u001b[0m     \u001b[0;32melse\u001b[0m\u001b[0;34m:\u001b[0m\u001b[0;34m\u001b[0m\u001b[0;34m\u001b[0m\u001b[0m\n\u001b[1;32m     50\u001b[0m         raise NotImplementedError(\"Error: the model does not support input space of type {}\".format(\n\u001b[0;32m---> 51\u001b[0;31m             type(ob_space).__name__))\n\u001b[0m",
      "\u001b[0;31mNotImplementedError\u001b[0m: Error: the model does not support input space of type Tuple"
     ]
    }
   ],
   "source": [
    "model = PPO2(MlpPolicy, sim, verbose=1)\n",
    "model.learn(total_timesteps=25000)"
   ]
  },
  {
   "cell_type": "markdown",
   "metadata": {
    "heading_collapsed": true
   },
   "source": [
    "### Exploitation of Q1\n"
   ]
  },
  {
   "cell_type": "code",
   "execution_count": null,
   "metadata": {
    "hidden": true
   },
   "outputs": [],
   "source": [
    "%%time\n",
    "Q1 = defaultdict(lambda: np.zeros(sim.action_space.n)) \n",
    "sim = flowshopGym()\n",
    "#sim.reset()\n",
    "\n",
    "\"\"\"Training the agent\"\"\"\n",
    "\n",
    "import random\n",
    "from IPython.display import clear_output\n",
    "\n",
    "# Hyperparameters\n",
    "alpha = 0.1\n",
    "gamma = 0.6\n",
    "epsilon = 0.3\n",
    "\n",
    "# For plotting metrics\n",
    "all_epochs = []\n",
    "all_penalties = []\n",
    "all_rewards = []\n",
    "all_tardiness = []\n",
    "all_steps = []\n",
    "\n",
    "for i in range(1, 301):\n",
    "    print(i)\n",
    "    sim = flowshopGym()\n",
    "    state = sim.reset()\n",
    "    steps = []\n",
    "    epochs, penalties, reward, episodic_reward, tardiness = 0, 0, 0, 0, []\n",
    "    done = False\n",
    "    episodic_reward_list = []\n",
    "    step = 0\n",
    "    while not done:\n",
    "        step += 1\n",
    "        \n",
    "        action = np.argmax(Q1[state]) # Exploit learned values\n",
    "        \n",
    "        next_state, reward, done, info = sim.step(action) \n",
    "        \n",
    "        \n",
    "        episodic_reward += reward\n",
    "        episodic_reward_list.append(reward)\n",
    "        \n",
    "        if reward <= 0:\n",
    "            penalties += 1\n",
    "        \n",
    "        state = next_state\n",
    "        epochs += 1\n",
    "        steps.append(step)\n",
    "        try:\n",
    "            #print(info['Tardiness'])\n",
    "            tardiness.append(info['Tardiness'])\n",
    "        except:\n",
    "            pass\n",
    "    \n",
    "    all_steps.append(steps)\n",
    "    all_epochs.append(i)\n",
    "    all_penalties.append(penalties)\n",
    "    all_rewards.append(episodic_reward)\n",
    "    all_tardiness.append(np.mean(tardiness))\n",
    "        \n",
    "    if i % 100 == 0:\n",
    "        clear_output(wait=True)\n",
    "        print(f\"Episode: {i}\")\n",
    "\n",
    "print(\"Training finished.\\n\")"
   ]
  },
  {
   "cell_type": "code",
   "execution_count": null,
   "metadata": {
    "hidden": true
   },
   "outputs": [],
   "source": [
    "np.mean(all_tardiness[-20:]),np.mean(all_rewards[-20:])"
   ]
  },
  {
   "cell_type": "code",
   "execution_count": null,
   "metadata": {
    "hidden": true,
    "scrolled": true
   },
   "outputs": [],
   "source": [
    "plt.plot(all_epochs,all_rewards)"
   ]
  },
  {
   "cell_type": "code",
   "execution_count": null,
   "metadata": {
    "hidden": true
   },
   "outputs": [],
   "source": [
    "plt.scatter(all_epochs,all_tardiness)\n",
    "plt.plot(all_epochs[9:],moving_average(all_tardiness, 10), color = 'blue')\n",
    "plt.show()"
   ]
  },
  {
   "cell_type": "code",
   "execution_count": null,
   "metadata": {
    "hidden": true
   },
   "outputs": [],
   "source": [
    "# Reward is \n",
    "if prod.tardiness <= 0: # 50 is the mean tardiness observed without any reward \n",
    "    sim.reward = sim.reward + 50\n",
    "else:\n",
    "    pass\n",
    "\n",
    "# check for the performance the models\n",
    "\n",
    "# next reward = - tardiness\n",
    "\n",
    "# check papers for how they define reward"
   ]
  }
 ],
 "metadata": {
  "kernelspec": {
   "display_name": "Python 3",
   "language": "python",
   "name": "python3"
  },
  "language_info": {
   "codemirror_mode": {
    "name": "ipython",
    "version": 3
   },
   "file_extension": ".py",
   "mimetype": "text/x-python",
   "name": "python",
   "nbconvert_exporter": "python",
   "pygments_lexer": "ipython3",
   "version": "3.6.5"
  },
  "toc": {
   "base_numbering": 1,
   "nav_menu": {},
   "number_sections": true,
   "sideBar": true,
   "skip_h1_title": false,
   "title_cell": "Table of Contents",
   "title_sidebar": "Contents",
   "toc_cell": false,
   "toc_position": {
    "height": "calc(100% - 180px)",
    "left": "10px",
    "top": "150px",
    "width": "165px"
   },
   "toc_section_display": true,
   "toc_window_display": true
  }
 },
 "nbformat": 4,
 "nbformat_minor": 2
}
