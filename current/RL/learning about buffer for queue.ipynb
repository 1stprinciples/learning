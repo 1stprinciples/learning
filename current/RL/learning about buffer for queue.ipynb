{
 "cells": [
  {
   "cell_type": "markdown",
   "metadata": {
    "heading_collapsed": true
   },
   "source": [
    "# not Working"
   ]
  },
  {
   "cell_type": "markdown",
   "metadata": {
    "heading_collapsed": true,
    "hidden": true
   },
   "source": [
    "## Using the `maxlen` parameter"
   ]
  },
  {
   "cell_type": "code",
   "execution_count": null,
   "metadata": {
    "hidden": true
   },
   "outputs": [],
   "source": [
    "import simpy\n",
    "def resource_user(env, resource):\n",
    "    request = resource.request()  # Generate a request event\n",
    "    resource.SortedQueue(1)\n",
    "    yield request                 # Wait for access\n",
    "    yield env.timeout(1)          # Do something\n",
    "    resource.release(request)     # Release the resource\n"
   ]
  },
  {
   "cell_type": "code",
   "execution_count": null,
   "metadata": {
    "hidden": true
   },
   "outputs": [],
   "source": [
    "\n",
    "env = simpy.Environment()\n",
    "res = simpy.Resource(env, capacity=1)\n",
    "\n",
    "\n",
    "user = env.process(resource_user(env, res))\n",
    "env.run()"
   ]
  },
  {
   "cell_type": "code",
   "execution_count": null,
   "metadata": {
    "hidden": true
   },
   "outputs": [],
   "source": [
    "res.maxlen"
   ]
  },
  {
   "cell_type": "markdown",
   "metadata": {
    "heading_collapsed": true,
    "hidden": true
   },
   "source": [
    "## Using Store"
   ]
  },
  {
   "cell_type": "markdown",
   "metadata": {
    "hidden": true
   },
   "source": [
    "This used to work earlier. I changed some things and it kind of stopped working. Why isn't is working? Or run it and check what the results and then edit it accordingly "
   ]
  },
  {
   "cell_type": "code",
   "execution_count": null,
   "metadata": {
    "hidden": true
   },
   "outputs": [],
   "source": [
    "def producer_1(env, store):\n",
    "    for i in range(100):\n",
    "        for i in range(self.NUM_PRODUCTS):\n",
    "            \n",
    "            # Creating instances of the product \n",
    "            self.instances.append(self.product(self,self.envSimpy,'Product_%d' % i,i/100, self.machine))\n",
    "            yield self.envSimpy.timeout(self.IAT)\n",
    "        \n",
    "def restock_process(env):\n",
    "    while True:\n",
    "        yield env.timeout(5)\n",
    "        print(\"Initial store items, MC queue length \",len(store.items), len(machine.queue))\n",
    "        \n",
    "        if len(machine.queue) < 10:\n",
    "            print(\"getting an item from store\")\n",
    "            item = store.get()\n",
    "            print(\"Later store items \",len(store.items))\n",
    "        else:\n",
    "            pass\n",
    "        \n",
    "def products(name, env, store):\n",
    "    while True:\n",
    "        yield env.timeout(10)\n",
    "        \n",
    "        # Get item from Store\n",
    "        #print(name, 'requesting spam at', env.now)\n",
    "        \n",
    "        #print(\"Items in store \", store.items)\n",
    "        #print(\"Machine queue \",machine.queue)\n",
    "        \n",
    "        print(\"Before\")\n",
    "        print(\"Machine queue LENGTH \", len(machine.queue))\n",
    "        print(\"After\")\n",
    "        \n",
    "        #print(\"Items in store \", store.items)\n",
    "        \n",
    "        #print(name, 'got', item, 'at', env.now)\n",
    "        \n",
    "        # Get item from the store\n",
    "        if len(machine.queue) < 4:\n",
    "            print(\"getting an item from store\")\n",
    "            item = store.get()\n",
    "            #print(\"Later store items \",len(store.items))\n",
    "        else:\n",
    "            pass\n",
    "        \n",
    "        # Request machine\n",
    "        with machine.request() as req:\n",
    "            #print(\"Machine request cleared for \", name)\n",
    "            #print(\"Machine queue \",machine.queue)\n",
    "            \n",
    "            print(\"Machine queue LENGTH \", len(machine.queue))\n",
    "            print(\"----------------------------------\")         \n",
    "            yield req\n",
    "            yield env.timeout(6)\n",
    "            \n",
    "            #print(\"Machine users \",machine.users)"
   ]
  },
  {
   "cell_type": "code",
   "execution_count": null,
   "metadata": {
    "hidden": true
   },
   "outputs": [],
   "source": [
    "env = simpy.Environment()\n",
    "store = simpy.Store(env)\n",
    "machine = simpy.Resource(env,capacity = 1)\n",
    "# restock = env.process(restock_process(env))\n",
    "\n",
    "prod = env.process(producer_1(env, store))\n",
    "products = [env.process(products(\"Consumer\", env, store)) for i in range(5)]\n",
    "\n",
    "env.run(until=1000)"
   ]
  },
  {
   "cell_type": "code",
   "execution_count": null,
   "metadata": {
    "hidden": true
   },
   "outputs": [],
   "source": []
  },
  {
   "cell_type": "markdown",
   "metadata": {},
   "source": [
    "# Working"
   ]
  },
  {
   "cell_type": "markdown",
   "metadata": {},
   "source": [
    "## Using the 2 process framework"
   ]
  },
  {
   "cell_type": "markdown",
   "metadata": {},
   "source": [
    "- The problem is that the machine.queue is always empty. Does this have to do something with having two parallel processes that access the same object `machine.queue`?"
   ]
  },
  {
   "cell_type": "code",
   "execution_count": 6,
   "metadata": {},
   "outputs": [],
   "source": [
    "a = 1"
   ]
  },
  {
   "cell_type": "code",
   "execution_count": 7,
   "metadata": {},
   "outputs": [],
   "source": [
    "if a == 9 or a == 10:\n",
    "    print('yes')"
   ]
  },
  {
   "cell_type": "code",
   "execution_count": 2,
   "metadata": {},
   "outputs": [],
   "source": [
    "import random\n",
    "import simpy"
   ]
  },
  {
   "cell_type": "code",
   "execution_count": 116,
   "metadata": {},
   "outputs": [],
   "source": [
    "# 2 processes \n",
    "\n",
    "# 1. Put in store\n",
    "# 2. Get product and request machine\n",
    "\n",
    "# -----------------------------PROCESS 1-------------------------------------------------\n",
    "def process_1(NUM_PRODUCTS,env,store, machine): # Create instances and put them in the store\n",
    "    instances = []\n",
    "    IAT = 1\n",
    "    for i in range(NUM_PRODUCTS):\n",
    "        # Creating instances of the product \n",
    "        instances.append(product(env,'Product_%d' % i, store, machine))\n",
    "        yield env.timeout(IAT)\n",
    "    \n",
    "    # After all the products are put into the store, start process 2\n",
    "    # Process 2 - Getting products from the store and create machine request\n",
    "    env.process(process_2(env, store, machine))\n",
    "\n",
    "class product(object): \n",
    "    def __init__(self, env, name, store, machine):\n",
    "        self.env = env\n",
    "        self.store = store\n",
    "        self.name = name\n",
    "        self.machine = machine\n",
    "        self.prod_type = random.randint(1,2) # the product type of the product.\n",
    "        self.production_end = random.randint(20,90)\n",
    "        #print(self.name , \"instantiated\")\n",
    "        self.env.process(self.put_store())\n",
    "    \n",
    "    def put_store(self):\n",
    "        yield self.env.timeout(1)\n",
    "        #print(\"Putting the\", self.name, \"in the store \")\n",
    "        self.store.put(self)\n",
    "        #print(len(store.items))\n",
    "\n",
    "# -----------------------------PROCESS 2-------------------------------------------------  \n",
    "def process_2(env, store, machine): # If machine.queue is less than 4, get a prod from store and create request\n",
    "    while True:\n",
    "        if len(machine.queue) < 4:\n",
    "            \"\"\n",
    "            # Get from store\n",
    "            prod = yield store.get()\n",
    "            \n",
    "            # Request machine\n",
    "            req = prod.machine.request()\n",
    "            print(machine.queue)\n",
    "            #with prod.machine.request() as req:\n",
    "            \n",
    "            env.process(process_3(env,prod, req))\n",
    "        else:\n",
    "            yield env.timeout(1)\n",
    "\n",
    "# -----------------------------PROCESS 3-------------------------------------------------  \n",
    "def process_3(env, prod, req): # Wait for req to go through and then produce and release the machine  \n",
    "    # Waiting for the request to go through\n",
    "    yield req\n",
    "    print(\"production of\", prod.name, \"started at\",)\n",
    "    # Production\n",
    "    yield env.timeout(5)\n",
    "\n",
    "    # Release the machine\n",
    "    yield prod.machine.release(req)\n",
    "    \n",
    "    # timeout before the next check\n",
    "    #yield env.timeout(1)"
   ]
  },
  {
   "cell_type": "code",
   "execution_count": 117,
   "metadata": {},
   "outputs": [
    {
     "name": "stdout",
     "output_type": "stream",
     "text": [
      "[]\n",
      "request is yielded\n",
      "[<Request() object at 0x10d3d78d0>]\n",
      "[<Request() object at 0x10d3d78d0>, <Request() object at 0x10d3d7cf8>]\n",
      "[<Request() object at 0x10d3d78d0>, <Request() object at 0x10d3d7cf8>, <Request() object at 0x10d3d7ac8>]\n",
      "[<Request() object at 0x10d3d78d0>, <Request() object at 0x10d3d7cf8>, <Request() object at 0x10d3d7ac8>, <Request() object at 0x10d5b0b38>]\n",
      "request is yielded\n",
      "[<Request() object at 0x10d3d7cf8>, <Request() object at 0x10d3d7ac8>, <Request() object at 0x10d5b0b38>, <Request() object at 0x10d3d7fd0>]\n",
      "request is yielded\n",
      "[<Request() object at 0x10d3d7ac8>, <Request() object at 0x10d5b0b38>, <Request() object at 0x10d3d7fd0>, <Request() object at 0x10d3d77f0>]\n",
      "request is yielded\n",
      "[<Request() object at 0x10d5b0b38>, <Request() object at 0x10d3d7fd0>, <Request() object at 0x10d3d77f0>, <Request() object at 0x10d3d74e0>]\n",
      "request is yielded\n",
      "[<Request() object at 0x10d3d7fd0>, <Request() object at 0x10d3d77f0>, <Request() object at 0x10d3d74e0>, <Request() object at 0x10d3d78d0>]\n",
      "request is yielded\n",
      "[<Request() object at 0x10d3d77f0>, <Request() object at 0x10d3d74e0>, <Request() object at 0x10d3d78d0>, <Request() object at 0x10d3d79b0>]\n",
      "request is yielded\n",
      "[<Request() object at 0x10d3d74e0>, <Request() object at 0x10d3d78d0>, <Request() object at 0x10d3d79b0>, <Request() object at 0x10d3d7d68>]\n",
      "request is yielded\n",
      "[<Request() object at 0x10d3d78d0>, <Request() object at 0x10d3d79b0>, <Request() object at 0x10d3d7d68>, <Request() object at 0x10d3d74a8>]\n",
      "request is yielded\n",
      "[<Request() object at 0x10d3d79b0>, <Request() object at 0x10d3d7d68>, <Request() object at 0x10d3d74a8>, <Request() object at 0x10d3d7e48>]\n",
      "request is yielded\n",
      "[<Request() object at 0x10d3d7d68>, <Request() object at 0x10d3d74a8>, <Request() object at 0x10d3d7e48>, <Request() object at 0x10d3d7b70>]\n",
      "request is yielded\n",
      "[<Request() object at 0x10d3d74a8>, <Request() object at 0x10d3d7e48>, <Request() object at 0x10d3d7b70>, <Request() object at 0x10d3d7ac8>]\n",
      "request is yielded\n",
      "[<Request() object at 0x10d3d7e48>, <Request() object at 0x10d3d7b70>, <Request() object at 0x10d3d7ac8>, <Request() object at 0x10d3d72e8>]\n",
      "request is yielded\n",
      "[<Request() object at 0x10d3d7b70>, <Request() object at 0x10d3d7ac8>, <Request() object at 0x10d3d72e8>, <Request() object at 0x10d3d7780>]\n",
      "request is yielded\n",
      "[<Request() object at 0x10d3d7ac8>, <Request() object at 0x10d3d72e8>, <Request() object at 0x10d3d7780>, <Request() object at 0x10d3d7fd0>]\n",
      "request is yielded\n",
      "[<Request() object at 0x10d3d72e8>, <Request() object at 0x10d3d7780>, <Request() object at 0x10d3d7fd0>, <Request() object at 0x10d3d77f0>]\n",
      "request is yielded\n",
      "[<Request() object at 0x10d3d7780>, <Request() object at 0x10d3d7fd0>, <Request() object at 0x10d3d77f0>, <Request() object at 0x10d3d74e0>]\n",
      "request is yielded\n",
      "request is yielded\n",
      "request is yielded\n",
      "request is yielded\n"
     ]
    }
   ],
   "source": [
    "env = simpy.Environment()\n",
    "store = simpy.Store(env)\n",
    "machine = simpy.Resource(env,capacity = 1)\n",
    "# restock = env.process(restock_process(env))\n",
    "NUM_PRODUCTS = 20\n",
    "\n",
    "\n",
    "# Process 1 - Creating products and putting them into the store\n",
    "env.process(process_1(NUM_PRODUCTS,env, store, machine))\n",
    "\n",
    "# Process 2 - Getting products from the store and create machine request\n",
    "# env.process(process_2(env, store, machine))\n",
    "\n",
    "\n",
    "\n",
    "#products = [env.process(products(\"Consumer\", env, store)) for i in range(5)]\n",
    "\n",
    "env.run(until=1000)"
   ]
  },
  {
   "cell_type": "code",
   "execution_count": 54,
   "metadata": {},
   "outputs": [
    {
     "ename": "SyntaxError",
     "evalue": "'yield' outside function (<ipython-input-54-f4eb35b995b4>, line 3)",
     "output_type": "error",
     "traceback": [
      "\u001b[0;36m  File \u001b[0;32m\"<ipython-input-54-f4eb35b995b4>\"\u001b[0;36m, line \u001b[0;32m3\u001b[0m\n\u001b[0;31m    yield req\u001b[0m\n\u001b[0m    ^\u001b[0m\n\u001b[0;31mSyntaxError\u001b[0m\u001b[0;31m:\u001b[0m 'yield' outside function\n"
     ]
    }
   ],
   "source": [
    "        with prod.machine.request() as req:\n",
    "            # Waiting for the request to go through\n",
    "            yield req\n",
    "            print(prod.machine.queue)\n",
    "\n",
    "            # Production\n",
    "            yield env.timeout(5)\n",
    "            print(\"Production of\", prod.name, \"completed\")\n",
    "            \n",
    "            \n",
    "    with prod.machine.request() as req:\n",
    "        # Waiting for the request to go through\n",
    "        yield req\n",
    "        print(prod.machine.queue)\n",
    "\n",
    "        # Production\n",
    "        yield env.timeout(5)\n",
    "        print(\"Production of\", prod.name, \"completed\")"
   ]
  },
  {
   "cell_type": "code",
   "execution_count": null,
   "metadata": {},
   "outputs": [],
   "source": []
  }
 ],
 "metadata": {
  "kernelspec": {
   "display_name": "Python 3",
   "language": "python",
   "name": "python3"
  },
  "language_info": {
   "codemirror_mode": {
    "name": "ipython",
    "version": 3
   },
   "file_extension": ".py",
   "mimetype": "text/x-python",
   "name": "python",
   "nbconvert_exporter": "python",
   "pygments_lexer": "ipython3",
   "version": "3.6.7"
  },
  "toc": {
   "base_numbering": 1,
   "nav_menu": {},
   "number_sections": true,
   "sideBar": true,
   "skip_h1_title": false,
   "title_cell": "Table of Contents",
   "title_sidebar": "Contents",
   "toc_cell": false,
   "toc_position": {},
   "toc_section_display": true,
   "toc_window_display": false
  }
 },
 "nbformat": 4,
 "nbformat_minor": 4
}
