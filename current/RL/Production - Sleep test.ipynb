{
 "cells": [
  {
   "cell_type": "markdown",
   "metadata": {},
   "source": [
    "When the action is not accepted, we have to sleep the production and wait till an action is accepted. This is because when an action is rejected, we cannot go ahead with the process, that would mean that the next item in the machine.queue would get processed. "
   ]
  },
  {
   "cell_type": "markdown",
   "metadata": {},
   "source": [
    "Aim: \n",
    "\n",
    "If action accepted = Wake up and move forward\n",
    "\n",
    "If action is rejected = Sleep"
   ]
  },
  {
   "cell_type": "markdown",
   "metadata": {},
   "source": [
    "I have made it work. Check out why it is working"
   ]
  },
  {
   "cell_type": "code",
   "execution_count": 1,
   "metadata": {},
   "outputs": [],
   "source": [
    "from random import seed, randint\n",
    "seed(23)\n",
    "import simpy"
   ]
  },
  {
   "cell_type": "markdown",
   "metadata": {
    "heading_collapsed": true
   },
   "source": [
    "## Example"
   ]
  },
  {
   "cell_type": "code",
   "execution_count": 39,
   "metadata": {
    "hidden": true
   },
   "outputs": [
    {
     "name": "stdout",
     "output_type": "stream",
     "text": [
      "Start parking at 0\n",
      "Bat. ctrl. passivating at 0\n"
     ]
    }
   ],
   "source": [
    "class EV:\n",
    "    def __init__(self, env):\n",
    "        self.env = env\n",
    "        # Driving process\n",
    "        self.drive_proc = env.process(self.drive(env))\n",
    "        \n",
    "        # Battery control process\n",
    "        self.bat_ctrl_proc = env.process(self.bat_ctrl(env))\n",
    "        \n",
    "        # Event - Reactivate battery control\n",
    "        self.bat_ctrl_reactivate = env.event()\n",
    "\n",
    "    def drive(self, env):\n",
    "        while True:\n",
    "            # Drive for 20-40 min\n",
    "            #yield env.timeout(randint(20, 40))\n",
    "\n",
    "            # Reactivate battery control\n",
    "            print('Start parking at', env.now)\n",
    "            self.bat_ctrl_reactivate.succeed()  # \"reactivate\"\n",
    "            self.bat_ctrl_reactivate = env.event()\n",
    "            \n",
    "            # Park for 1–6 hours\n",
    "            yield env.timeout(randint(60, 360))\n",
    "            print('Stop parking at', env.now)\n",
    "\n",
    "    def bat_ctrl(self, env):\n",
    "        while True:\n",
    "            print('Bat. ctrl. passivating at', env.now)\n",
    "            yield self.bat_ctrl_reactivate  # \"passivate\"\n",
    "            print('Bat. ctrl. reactivated at', env.now)\n",
    "\n",
    "            # Intelligent charging behavior here …\n",
    "            yield env.timeout(randint(30, 90))\n",
    "            \n",
    "env = simpy.Environment()\n",
    "ev = EV(env)\n",
    "env.run(until=200)"
   ]
  },
  {
   "cell_type": "markdown",
   "metadata": {},
   "source": [
    "## My take"
   ]
  },
  {
   "cell_type": "code",
   "execution_count": 92,
   "metadata": {},
   "outputs": [],
   "source": [
    "class EV:\n",
    "    def __init__(self, env):\n",
    "        self.env = env\n",
    "        self.action_taken = randint(0,1)\n",
    "        \n",
    "        # Defining processes\n",
    "        # Sleep process\n",
    "        print(\"Putting machine to sleep\")\n",
    "        self.sleep_proc = env.process(self.sleep(env))\n",
    "        \n",
    "        # Production process\n",
    "        self.continue_production_proc = env.process(self.continueProduction(env))\n",
    "\n",
    "        # Defining Events        \n",
    "        self.action_accepted_event = env.event()\n",
    "\n",
    "    def continueProduction(self, env):\n",
    "        while True:\n",
    "            print('Choosing an action')\n",
    "            self.action_taken = randint(0,1)\n",
    "            \n",
    "            if self.action_taken == 0: # if action accepted\n",
    "                print(\"Action is accepted \")\n",
    "                self.action_accepted_event.succeed()  # \"reactivate\"\n",
    "                self.action_accepted_event = env.event()\n",
    "                \n",
    "                print('Machine reactivated at ', env.now)\n",
    "                \n",
    "                # Production for 2 minutes\n",
    "                yield env.timeout(2)\n",
    "                print('Production complete at ', env.now)\n",
    "                \n",
    "                # Sleep again after production\n",
    "                self.sleep_proc = env.process(self.sleep(env))\n",
    "                print(\"Putting machine to sleep at \", env.now)\n",
    "                \n",
    "            else:\n",
    "                \n",
    "                print('Action is rejected')\n",
    "                \n",
    "    def sleep(self, env): # sleep and production\n",
    "        yield self.action_accepted_event  # \"passivate\"\n",
    "            \n",
    "            \n",
    "            \n",
    "            "
   ]
  },
  {
   "cell_type": "code",
   "execution_count": 93,
   "metadata": {
    "scrolled": false
   },
   "outputs": [
    {
     "name": "stdout",
     "output_type": "stream",
     "text": [
      "Putting machine to sleep\n",
      "Choosing an action\n",
      "Action is accepted \n",
      "Machine reactivated at  0\n",
      "Production complete at  2\n",
      "Putting machine to sleep at  2\n",
      "Choosing an action\n",
      "Action is rejected\n",
      "Choosing an action\n",
      "Action is accepted \n",
      "Machine reactivated at  2\n",
      "Production complete at  4\n",
      "Putting machine to sleep at  4\n",
      "Choosing an action\n",
      "Action is rejected\n",
      "Choosing an action\n",
      "Action is rejected\n",
      "Choosing an action\n",
      "Action is accepted \n",
      "Machine reactivated at  4\n",
      "Production complete at  6\n",
      "Putting machine to sleep at  6\n",
      "Choosing an action\n",
      "Action is accepted \n",
      "Machine reactivated at  6\n",
      "Production complete at  8\n",
      "Putting machine to sleep at  8\n",
      "Choosing an action\n",
      "Action is accepted \n",
      "Machine reactivated at  8\n",
      "Production complete at  10\n",
      "Putting machine to sleep at  10\n",
      "Choosing an action\n",
      "Action is rejected\n",
      "Choosing an action\n",
      "Action is rejected\n",
      "Choosing an action\n",
      "Action is accepted \n",
      "Machine reactivated at  10\n",
      "Production complete at  12\n",
      "Putting machine to sleep at  12\n",
      "Choosing an action\n",
      "Action is accepted \n",
      "Machine reactivated at  12\n",
      "Production complete at  14\n",
      "Putting machine to sleep at  14\n",
      "Choosing an action\n",
      "Action is rejected\n",
      "Choosing an action\n",
      "Action is accepted \n",
      "Machine reactivated at  14\n",
      "Production complete at  16\n",
      "Putting machine to sleep at  16\n",
      "Choosing an action\n",
      "Action is accepted \n",
      "Machine reactivated at  16\n",
      "Production complete at  18\n",
      "Putting machine to sleep at  18\n",
      "Choosing an action\n",
      "Action is rejected\n",
      "Choosing an action\n",
      "Action is rejected\n",
      "Choosing an action\n",
      "Action is accepted \n",
      "Machine reactivated at  18\n"
     ]
    }
   ],
   "source": [
    "env = simpy.Environment()\n",
    "ev = EV(env)\n",
    "env.run(until=20)"
   ]
  },
  {
   "cell_type": "code",
   "execution_count": null,
   "metadata": {},
   "outputs": [],
   "source": []
  },
  {
   "cell_type": "code",
   "execution_count": null,
   "metadata": {},
   "outputs": [],
   "source": []
  }
 ],
 "metadata": {
  "kernelspec": {
   "display_name": "Python 3",
   "language": "python",
   "name": "python3"
  },
  "language_info": {
   "codemirror_mode": {
    "name": "ipython",
    "version": 3
   },
   "file_extension": ".py",
   "mimetype": "text/x-python",
   "name": "python",
   "nbconvert_exporter": "python",
   "pygments_lexer": "ipython3",
   "version": "3.6.7"
  },
  "toc": {
   "base_numbering": 1,
   "nav_menu": {},
   "number_sections": true,
   "sideBar": true,
   "skip_h1_title": false,
   "title_cell": "Table of Contents",
   "title_sidebar": "Contents",
   "toc_cell": false,
   "toc_position": {},
   "toc_section_display": true,
   "toc_window_display": false
  }
 },
 "nbformat": 4,
 "nbformat_minor": 4
}
